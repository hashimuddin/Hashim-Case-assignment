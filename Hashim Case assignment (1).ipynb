{
 "cells": [
  {
   "cell_type": "code",
   "execution_count": 227,
   "id": "d7f3658d",
   "metadata": {},
   "outputs": [],
   "source": [
    "import numpy as np\n",
    "import pandas as pd"
   ]
  },
  {
   "cell_type": "code",
   "execution_count": 219,
   "id": "35110bd3",
   "metadata": {},
   "outputs": [
    {
     "name": "stdout",
     "output_type": "stream",
     "text": [
      "       order_id  fk_buyer_id  fk_depot_id sales_order_status  \\\n",
      "0        119874        82228            5           Rejected   \n",
      "1        119877        40476            1           Rejected   \n",
      "2        119880        41728            8            Shipped   \n",
      "3        119880        41728            8            Shipped   \n",
      "4        119880        41728            8            Shipped   \n",
      "...         ...          ...          ...                ...   \n",
      "20483    318966       167048            1            Shipped   \n",
      "20484    318966       167048            1            Shipped   \n",
      "20485    318966       167048            1            Shipped   \n",
      "20486    318969       122360            2           Rejected   \n",
      "20487    318972       190076            9            Shipped   \n",
      "\n",
      "               creation_time              Data_N  order_item_id  \\\n",
      "0      2021-07-01 00:35:28.0 2021-07-01 00:35:28          62609   \n",
      "1      2021-07-01 02:02:43.0 2021-07-01 02:02:43          62610   \n",
      "2      2021-07-01 02:42:12.0 2021-07-01 02:42:12          62611   \n",
      "3      2021-07-01 02:42:12.0 2021-07-01 02:42:12          62612   \n",
      "4      2021-07-01 02:42:12.0 2021-07-01 02:42:12          62613   \n",
      "...                      ...                 ...            ...   \n",
      "20483  2022-07-30 16:57:31.0 2022-07-30 16:57:31         157584   \n",
      "20484  2022-07-30 16:57:31.0 2022-07-30 16:57:31         157585   \n",
      "20485  2022-07-30 16:57:31.0 2022-07-30 16:57:31         157586   \n",
      "20486  2022-07-30 17:53:54.0 2022-07-30 17:53:54         157587   \n",
      "20487  2022-07-30 18:17:49.0 2022-07-30 18:17:49         157588   \n",
      "\n",
      "       fk_product_id  ordered_quantity  order_quantity_accepted      rate  \\\n",
      "0               7818                 1                        0   4993.00   \n",
      "1               7607                 1                        0   6203.40   \n",
      "2               9916                 2                        2   2904.41   \n",
      "3              11118                 2                        2   2205.00   \n",
      "4              12702                 2                        2   2200.85   \n",
      "...              ...               ...                      ...       ...   \n",
      "20483          10975                 1                        1  12632.00   \n",
      "20484          10975                 1                        0  11814.00   \n",
      "20485          10975                 1                        1  10110.00   \n",
      "20486           3284                 1                        0   5271.00   \n",
      "20487           8421                 1                        1   4714.00   \n",
      "\n",
      "       Year  \n",
      "0      2021  \n",
      "1      2021  \n",
      "2      2021  \n",
      "3      2021  \n",
      "4      2021  \n",
      "...     ...  \n",
      "20483  2022  \n",
      "20484  2022  \n",
      "20485  2022  \n",
      "20486  2022  \n",
      "20487  2022  \n",
      "\n",
      "[20488 rows x 12 columns]\n"
     ]
    }
   ],
   "source": [
    "# Answer-1 \n",
    "data = pd.read_csv(r\"C:\\Users\\Hashim Uddin\\Downloads\\Plantix_Case_Study 17-9-22\\sales_orders.csv\")\n",
    "data['Data_N'] = pd.to_datetime(data['creation_time'])\n",
    "data['Data_N'].dt.year\n",
    "data1 = pd.read_csv(r\"C:\\Users\\Hashim Uddin\\Downloads\\Plantix_Case_Study 17-9-22\\sales_orders_items.csv\")\n",
    "data1.rename(columns={'fk_order_id':'order_id'},inplace=True)\n",
    "data2 = data.merge(data1,on=['order_id'])\n",
    "data2[\"Year\"] = data2.Data_N.dt.year\n",
    "print(data2)\n",
    "# There are various KPIs measure the performance of our app.\n",
    "# 1. order_id - How are your people contributing to the expansion of your business in their given territory.\n",
    "# 2. sales_order_status - Its clearly show the order is Rejected or shipped so its very important to bussiness.\n",
    "# 3. order_quantity_accepted - Its clearly shows the accepted quantiy as quantity and shows 0 for rejected item of every order.\n",
    "# 4. rate - rate plays the most important role of any bussiness. all growth and criaterias depands on the rate of products.\n"
   ]
  },
  {
   "cell_type": "code",
   "execution_count": 220,
   "id": "11bfe67e",
   "metadata": {},
   "outputs": [
    {
     "name": "stdout",
     "output_type": "stream",
     "text": [
      "Customers accepted orders quantity in each year\n",
      "Year\n",
      "2021    11485\n",
      "2022    18301\n",
      "Name: order_quantity_accepted, dtype: int64\n"
     ]
    }
   ],
   "source": [
    "# Answer -2(a) - \n",
    "data = pd.read_csv(r\"C:\\Users\\Hashim Uddin\\Downloads\\Plantix_Case_Study 17-9-22\\sales_orders.csv\")\n",
    "data['Data_N'] = pd.to_datetime(data['creation_time'])\n",
    "data['Data_N'].dt.year\n",
    "data1 = pd.read_csv(r\"C:\\Users\\Hashim Uddin\\Downloads\\Plantix_Case_Study 17-9-22\\sales_orders_items.csv\")\n",
    "data1.rename(columns={'fk_order_id':'order_id'},inplace=True)\n",
    "data2 = data.merge(data1,on=['order_id'])\n",
    "data2[\"Year\"] = data2.Data_N.dt.year\n",
    "data3 = data2.groupby([\"fk_product_id\",\"Year\"])['order_quantity_accepted'].sum().to_frame()\n",
    "data6 = data3.groupby(['Year'])['order_quantity_accepted'].sum()\n",
    "print(\"Customers accepted orders quantity in each year\")\n",
    "print(data6)\n",
    "\n",
    "\n",
    "# Above mentioned \"data4\" Output clearly shows the 'order_qunatity_accepted' in Year 2022 by customers is increase as compared to Year 2021\n",
    "# So our bussiness is grow till july 2022.\n"
   ]
  },
  {
   "cell_type": "code",
   "execution_count": 221,
   "id": "95116695",
   "metadata": {},
   "outputs": [
    {
     "name": "stdout",
     "output_type": "stream",
     "text": [
      "Customers accepted orders quantity in each year Year\n",
      "2021    11485\n",
      "2022    18301\n",
      "Name: order_quantity_accepted, dtype: int64\n",
      "Total number of Oreders in each years        order_id\n",
      "Year          \n",
      "2021      9826\n",
      "2022     10662\n"
     ]
    }
   ],
   "source": [
    "#Answer - 2(b)-\n",
    "data = pd.read_csv(r\"C:\\Users\\Hashim Uddin\\Downloads\\Plantix_Case_Study 17-9-22\\sales_orders.csv\")\n",
    "data['Data_N'] = pd.to_datetime(data['creation_time'])\n",
    "data['Data_N'].dt.year\n",
    "data1 = pd.read_csv(r\"C:\\Users\\Hashim Uddin\\Downloads\\Plantix_Case_Study 17-9-22\\sales_orders_items.csv\")\n",
    "data1.rename(columns={'fk_order_id':'order_id'},inplace=True)\n",
    "data2 = data.merge(data1,on=['order_id'])\n",
    "data2[\"Year\"] = data2.Data_N.dt.year\n",
    "data3 = data2.groupby([\"fk_product_id\",\"Year\"])['order_quantity_accepted'].sum().to_frame()\n",
    "data6 = data3.groupby(['Year'])['order_quantity_accepted'].sum()\n",
    "print(\"Customers accepted orders quantity in each year\",data6)\n",
    "\n",
    "data8 = data2.groupby(['Year'])['order_id'].count().to_frame()\n",
    "print(\"Total number of Oreders in each years \",data8)\n",
    "#Point-1   - Above mentioned \"data6\" Output clearly shows the 'order_qunatity_accepted' in Year 2022 by customers is increase as compared to Year 2021\n",
    "# So our \"app is perform really well\" till July 2022.\n",
    "\n",
    "#Point-2   - Above mention \"data8\" Output clearly shows the number of \"order_id/number of orders\" is increase in Year 2022 as compared to Year 2021 \n",
    "# So our \"app is perform really well\" till July 2022."
   ]
  },
  {
   "cell_type": "code",
   "execution_count": 222,
   "id": "e36e41cd",
   "metadata": {},
   "outputs": [
    {
     "name": "stdout",
     "output_type": "stream",
     "text": [
      "Total number of orders in each years \n",
      "      order_id\n",
      "Year          \n",
      "2021      9826\n",
      "2022     10662\n"
     ]
    }
   ],
   "source": [
    "# Answer 2(c)\n",
    "data = pd.read_csv(r\"C:\\Users\\Hashim Uddin\\Downloads\\Plantix_Case_Study 17-9-22\\sales_orders.csv\")\n",
    "data['Data_N'] = pd.to_datetime(data['creation_time'])\n",
    "data['Data_N'].dt.year\n",
    "data1 = pd.read_csv(r\"C:\\Users\\Hashim Uddin\\Downloads\\Plantix_Case_Study 17-9-22\\sales_orders_items.csv\")\n",
    "data1.rename(columns={'fk_order_id':'order_id'},inplace=True)\n",
    "data2 = data.merge(data1,on=['order_id'])\n",
    "data2[\"Year\"] = data2.Data_N.dt.year\n",
    "\n",
    "data8 = data2.groupby(['Year'])['order_id'].count().to_frame()\n",
    "print(\"Total number of orders in each years \")\n",
    "print(data8)\n",
    "# Above mention answer clearly shows the number of \"order_id/number of orders\" is increase in Year 2022 \n",
    "# as compared to Year 2021 so Our \"User base\" is growing till July 2022."
   ]
  },
  {
   "cell_type": "code",
   "execution_count": 223,
   "id": "69d9d4e6",
   "metadata": {},
   "outputs": [
    {
     "name": "stdout",
     "output_type": "stream",
     "text": [
      "Top selling products in each Years\n",
      "                    order_quantity_accepted\n",
      "fk_product_id Year                         \n",
      "10235         2021                     1045\n",
      "12547         2022                     1572\n"
     ]
    },
    {
     "data": {
      "image/png": "[encoded data removed]",
      "text/plain": [
       "<Figure size 720x504 with 1 Axes>"
      ]
     },
     "metadata": {},
     "output_type": "display_data"
    }
   ],
   "source": [
    "# Answer - 3\n",
    "data = pd.read_csv(r\"C:\\Users\\Hashim Uddin\\Downloads\\Plantix_Case_Study 17-9-22\\sales_orders.csv\")\n",
    "data['Data_N'] = pd.to_datetime(data['creation_time'])\n",
    "data['Data_N'].dt.year\n",
    "data1 = pd.read_csv(r\"C:\\Users\\Hashim Uddin\\Downloads\\Plantix_Case_Study 17-9-22\\sales_orders_items.csv\")\n",
    "data1.rename(columns={'fk_order_id':'order_id'},inplace=True)\n",
    "data2 = data.merge(data1,on=['order_id'])\n",
    "data2[\"Year\"] = data2.Data_N.dt.year\n",
    "data3 = (data2.groupby(['fk_product_id','Year'])['order_quantity_accepted'].sum().to_frame())\n",
    "data4 = data3.loc[data3.groupby(['Year'])['order_quantity_accepted'].idxmax()] \n",
    "data5 = data3.loc[data3.groupby(['Year'])['order_quantity_accepted'].idxmax()] # Answer -3\n",
    "\n",
    "print(\"Top selling products in each Years\")\n",
    "print(data5)\n",
    "\n",
    "# Import libraries\n",
    "from mpl_toolkits import mplot3d\n",
    "import numpy as np\n",
    "import matplotlib.pyplot as plt\n",
    "\n",
    "\n",
    "# Creating dataset\n",
    "z = [2021,2022]\n",
    "x = [10235,12547]\n",
    "y = [1045,1572]\n",
    "\n",
    "# Creating figure\n",
    "fig = plt.figure(figsize = (10, 7))\n",
    "ax = plt.axes(projection =\"3d\")\n",
    "\n",
    "# Creating plot\n",
    "ax.scatter3D(x, y, z, color = \"green\")\n",
    "plt.title(\"simple 3D scatter plot\")\n",
    "\n",
    "# show plot\n",
    "plt.show()\n",
    "\n",
    "# Answer 3=> Above mention \"data5\" output clearly shows the \"product/fk_product_id\" no. 10235 is a maximum selling product in Year 2021 \n",
    "# And \"product/fk_product_id\" no. 12547 is a maximum selling product in Year 2022.\n",
    "# Also drow the 3D graph between order_quantity_accepted,fk_product_id, Year ."
   ]
  },
  {
   "cell_type": "code",
   "execution_count": 225,
   "id": "bd472a16",
   "metadata": {},
   "outputs": [
    {
     "name": "stdout",
     "output_type": "stream",
     "text": [
      "Order_Id's have 0 delivery rates \n",
      "order_id\n",
      "119874    0.0\n",
      "119877    0.0\n",
      "119883    0.0\n",
      "119886    0.0\n",
      "119889    0.0\n",
      "         ... \n",
      "138507    0.0\n",
      "138510    0.0\n",
      "138513    0.0\n",
      "138516    0.0\n",
      "138519    0.0\n",
      "Length: 3764, dtype: float64\n"
     ]
    },
    {
     "name": "stderr",
     "output_type": "stream",
     "text": [
      "C:\\Users\\Hashim Uddin\\AppData\\Local\\Temp\\ipykernel_7352\\3192466246.py:4: FutureWarning: Indexing with multiple keys (implicitly converted to a tuple of keys) will be deprecated, use a list instead.\n",
      "  data11 = data10.groupby([\"order_id\"])['ordered_quantity','order_quantity_accepted'].sum()\n"
     ]
    }
   ],
   "source": [
    "# Answer - 4\n",
    "data2\n",
    "data10 = data2[data2.Year.isin([2021])]\n",
    "data11 = data10.groupby([\"order_id\"])['ordered_quantity','order_quantity_accepted'].sum()\n",
    "Difference_Percentage = (((data11.order_quantity_accepted) / (data11.ordered_quantity))*100)\n",
    "print(\"Order_Id's have 0 delivery rates \")\n",
    "print(Difference_Percentage[Difference_Percentage.isin([0])])\n",
    "# Our biggest concerned for Year 2021. So we should look over these order_id as these have 0 delivery rates."
   ]
  },
  {
   "cell_type": "code",
   "execution_count": 226,
   "id": "ed35ae31",
   "metadata": {},
   "outputs": [
    {
     "name": "stdout",
     "output_type": "stream",
     "text": [
      "Orders is affected by the login frequency 6.666666666666667\n"
     ]
    }
   ],
   "source": [
    "# Answer - 5\n",
    "login = pd.read_csv(r\"C:\\Users\\Hashim Uddin\\Downloads\\Plantix_Case_Study 17-9-22\\login_logs.csv\")\n",
    "login['Data_N'] = pd.to_datetime(login['login_time'])\n",
    "login\n",
    "login.dtypes\n",
    "login.rename(columns={'user_id':'fk_buyer_id'},inplace=True)\n",
    "login1 = data2.merge(login,on=['fk_buyer_id'])\n",
    "login2 = (login1.login_time)<(login1.creation_time)\n",
    "login2.head(2)\n",
    "login2.size\n",
    "login1.size\n",
    "login3 = login1.size - login2.size\n",
    "login4 = ((login2.size)/(login1.size))*100\n",
    "\n",
    "print(\"Orders is affected by the login frequency\",login4)\n",
    "# So 6.66666% orders is affected by the login frequency."
   ]
  },
  {
   "cell_type": "code",
   "execution_count": null,
   "id": "3e633bd4",
   "metadata": {},
   "outputs": [],
   "source": []
  },
  {
   "cell_type": "code",
   "execution_count": null,
   "id": "e00c5532",
   "metadata": {},
   "outputs": [],
   "source": []
  },
  {
   "cell_type": "code",
   "execution_count": 9,
   "id": "11a7a652",
   "metadata": {},
   "outputs": [],
   "source": [
    "\n"
   ]
  },
  {
   "cell_type": "code",
   "execution_count": null,
   "id": "4d06406d",
   "metadata": {},
   "outputs": [],
   "source": []
  },
  {
   "cell_type": "code",
   "execution_count": null,
   "id": "1c504726",
   "metadata": {},
   "outputs": [],
   "source": []
  },
  {
   "cell_type": "code",
   "execution_count": null,
   "id": "1f8bd564",
   "metadata": {},
   "outputs": [],
   "source": []
  },
  {
   "cell_type": "code",
   "execution_count": null,
   "id": "3e1f0656",
   "metadata": {},
   "outputs": [],
   "source": []
  },
  {
   "cell_type": "code",
   "execution_count": null,
   "id": "7dbd5dc0",
   "metadata": {},
   "outputs": [],
   "source": []
  },
  {
   "cell_type": "code",
   "execution_count": null,
   "id": "a01d6ccd",
   "metadata": {},
   "outputs": [],
   "source": []
  },
  {
   "cell_type": "code",
   "execution_count": null,
   "id": "c1f02166",
   "metadata": {},
   "outputs": [],
   "source": [
    "\n"
   ]
  },
  {
   "cell_type": "code",
   "execution_count": null,
   "id": "3c4a6ac3",
   "metadata": {},
   "outputs": [],
   "source": []
  },
  {
   "cell_type": "code",
   "execution_count": null,
   "id": "c76fe3b3",
   "metadata": {},
   "outputs": [],
   "source": []
  },
  {
   "cell_type": "code",
   "execution_count": null,
   "id": "60e792e5",
   "metadata": {},
   "outputs": [],
   "source": []
  },
  {
   "cell_type": "code",
   "execution_count": 79,
   "id": "75e5dcee",
   "metadata": {},
   "outputs": [],
   "source": []
  },
  {
   "cell_type": "code",
   "execution_count": null,
   "id": "fef5e488",
   "metadata": {},
   "outputs": [],
   "source": []
  },
  {
   "cell_type": "code",
   "execution_count": null,
   "id": "f086915a",
   "metadata": {},
   "outputs": [],
   "source": []
  },
  {
   "cell_type": "code",
   "execution_count": null,
   "id": "a060262d",
   "metadata": {},
   "outputs": [],
   "source": [
    " \n"
   ]
  },
  {
   "cell_type": "code",
   "execution_count": null,
   "id": "a4b3f495",
   "metadata": {},
   "outputs": [],
   "source": []
  },
  {
   "cell_type": "code",
   "execution_count": null,
   "id": "1adc60ba",
   "metadata": {},
   "outputs": [],
   "source": []
  },
  {
   "cell_type": "code",
   "execution_count": null,
   "id": "bbec4185",
   "metadata": {},
   "outputs": [],
   "source": []
  },
  {
   "cell_type": "code",
   "execution_count": null,
   "id": "a5724277",
   "metadata": {},
   "outputs": [],
   "source": []
  },
  {
   "cell_type": "code",
   "execution_count": null,
   "id": "ca8f16e9",
   "metadata": {},
   "outputs": [],
   "source": []
  },
  {
   "cell_type": "code",
   "execution_count": null,
   "id": "65779c7e",
   "metadata": {},
   "outputs": [],
   "source": []
  },
  {
   "cell_type": "code",
   "execution_count": null,
   "id": "f84137b9",
   "metadata": {},
   "outputs": [],
   "source": []
  },
  {
   "cell_type": "code",
   "execution_count": null,
   "id": "2ecc8d4b",
   "metadata": {},
   "outputs": [],
   "source": []
  },
  {
   "cell_type": "code",
   "execution_count": null,
   "id": "531e0e7b",
   "metadata": {},
   "outputs": [],
   "source": []
  },
  {
   "cell_type": "code",
   "execution_count": null,
   "id": "30805036",
   "metadata": {},
   "outputs": [],
   "source": []
  },
  {
   "cell_type": "code",
   "execution_count": 69,
   "id": "b3adeadd",
   "metadata": {},
   "outputs": [],
   "source": []
  },
  {
   "cell_type": "code",
   "execution_count": null,
   "id": "963610b7",
   "metadata": {},
   "outputs": [],
   "source": []
  },
  {
   "cell_type": "code",
   "execution_count": null,
   "id": "a653f4a9",
   "metadata": {},
   "outputs": [],
   "source": []
  },
  {
   "cell_type": "code",
   "execution_count": null,
   "id": "910f5f50",
   "metadata": {},
   "outputs": [],
   "source": []
  },
  {
   "cell_type": "code",
   "execution_count": null,
   "id": "6404739b",
   "metadata": {},
   "outputs": [],
   "source": []
  },
  {
   "cell_type": "code",
   "execution_count": null,
   "id": "7f9b8c9a",
   "metadata": {},
   "outputs": [],
   "source": []
  },
  {
   "cell_type": "code",
   "execution_count": null,
   "id": "fcbd3732",
   "metadata": {},
   "outputs": [],
   "source": []
  },
  {
   "cell_type": "code",
   "execution_count": null,
   "id": "7e5a9153",
   "metadata": {},
   "outputs": [],
   "source": []
  },
  {
   "cell_type": "code",
   "execution_count": null,
   "id": "863f6343",
   "metadata": {},
   "outputs": [],
   "source": []
  },
  {
   "cell_type": "code",
   "execution_count": null,
   "id": "436bbf2b",
   "metadata": {},
   "outputs": [],
   "source": []
  },
  {
   "cell_type": "code",
   "execution_count": null,
   "id": "d35194bb",
   "metadata": {},
   "outputs": [],
   "source": [
    "\n"
   ]
  },
  {
   "cell_type": "code",
   "execution_count": null,
   "id": "131f4297",
   "metadata": {},
   "outputs": [],
   "source": []
  },
  {
   "cell_type": "code",
   "execution_count": null,
   "id": "37cf698b",
   "metadata": {},
   "outputs": [],
   "source": []
  }
 ],
 "metadata": {
  "kernelspec": {
   "display_name": "Python 3 (ipykernel)",
   "language": "python",
   "name": "python3"
  },
  "language_info": {
   "codemirror_mode": {
    "name": "ipython",
    "version": 3
   },
   "file_extension": ".py",
   "mimetype": "text/x-python",
   "name": "python",
   "nbconvert_exporter": "python",
   "pygments_lexer": "ipython3",
   "version": "3.10.6"
  }
 },
 "nbformat": 4,
 "nbformat_minor": 5
}
